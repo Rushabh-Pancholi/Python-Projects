{
 "cells": [
  {
   "cell_type": "code",
   "execution_count": 1,
   "metadata": {},
   "outputs": [],
   "source": [
    "import cv2\n",
    "import numpy as np"
   ]
  },
  {
   "cell_type": "code",
   "execution_count": 1,
   "metadata": {},
   "outputs": [],
   "source": [
    "my_colour = [[255,255,255],[0,0,0]]\n",
    "# color_limit = [[0,146,85,10,255,255]]\n",
    "color_limit = [[0,201,79,6,255,125]]"
   ]
  },
  {
   "cell_type": "code",
   "execution_count": 3,
   "metadata": {},
   "outputs": [],
   "source": [
    "def findcolor(img):\n",
    "    img_hsv = cv2.cvtColor(img, cv2.COLOR_BGR2HSV)\n",
    "    lower_limit = np.array(color_limit[0][0:3])\n",
    "    upper_limit = np.array(color_limit[0][3:6])\n",
    "    mask = cv2.inRange(img_hsv, lower_limit, upper_limit)\n",
    "    cv2.imshow('mask', mask) \n",
    "    contour(mask)\n",
    "    "
   ]
  },
  {
   "cell_type": "code",
   "execution_count": 7,
   "metadata": {},
   "outputs": [],
   "source": [
    "def contour(img_co):\n",
    "    contur, hierarcy = cv2.findContours(img_co, cv2.RETR_TREE, cv2.CHAIN_APPROX_SIMPLE)\n",
    "    new_points = []\n",
    "    for cr in contur :\n",
    "        area = cv2.contourArea(cr)\n",
    "        if area > 300:\n",
    "            cv2.drawContours(img, contur, -1, (0, 0, 255), 3)\n",
    "            # approx = cv2.approxPolyDP(contur, 0.01*cv2.arcLength(contur, True), True)\n",
    "            # x,y,w,h = cv2.boundingRect(approx)\n",
    "            # cv2.circle(img, (x+w/2,y+h/2), 15 , my_colour[0], -1)\n",
    "            # if x!=0 and y!=0:\n",
    "            #     new_points.append([x,y])\n",
    "            "
   ]
  },
  {
   "cell_type": "code",
   "execution_count": 8,
   "metadata": {},
   "outputs": [],
   "source": [
    "def video():\n",
    "    framwidth = 640\n",
    "    framheight = 480\n",
    "    cap = cv2.VideoCapture(0)\n",
    "    cap.set(3, framwidth)\n",
    "    cap.set(4, framheight)\n",
    "    cap.set(10, 100)\n",
    "    while True:\n",
    "        SUCCESS, img = cap.read()\n",
    "        # findcolor(img.copy())\n",
    "        \n",
    "        edit(img)\n",
    "        if cv2.waitKey(1) & 0xFF == ord('q'):\n",
    "            break\n",
    "        \n",
    "        \n",
    "def edit(img):\n",
    "    # color detection in image\n",
    "    def nothing(x):\n",
    "        pass\n",
    "\n",
    "    # find proper values for min and max and then you can extract the color\n",
    "    cv2.namedWindow('trackbar')\n",
    "    cv2.resizeWindow('trackbar', 600,600)\n",
    "    cv2.createTrackbar('Hue Min', 'trackbar', 0, 179, nothing)\n",
    "    cv2.createTrackbar('Hue Max', 'trackbar', 179, 179, nothing)\n",
    "    cv2.createTrackbar('sat Min', 'trackbar', 0, 255, nothing)\n",
    "    cv2.createTrackbar('sat Max', 'trackbar', 255, 255, nothing)\n",
    "    cv2.createTrackbar('val Min', 'trackbar', 0, 255, nothing)\n",
    "    cv2.createTrackbar('val Max', 'trackbar', 255, 255, nothing)\n",
    "\n",
    "    # while True:\n",
    "        \n",
    "    imgHSV =  cv2.cvtColor(img, cv2.COLOR_BGR2HSV)\n",
    "\n",
    "    h_min = cv2.getTrackbarPos('Hue Min', 'trackbar')\n",
    "    h_max = cv2.getTrackbarPos('Hue Min', 'trackbar')\n",
    "    sat_min = cv2.getTrackbarPos('sat Min', 'trackbar')\n",
    "    sat_max = cv2.getTrackbarPos('sat Max', 'trackbar')\n",
    "    val_min = cv2.getTrackbarPos('val Min', 'trackbar')\n",
    "    val_max = cv2.getTrackbarPos('val Max', 'trackbar')\n",
    "        \n",
    "    lower = np.array([h_min, sat_min, val_min])\n",
    "    higher = np.array([h_max, sat_max, val_max])\n",
    "    print(h_min, h_max, sat_min, sat_max, val_min, val_max)\n",
    "    mask = cv2.inRange(imgHSV, lower,higher)\n",
    "        \n",
    "    imgResult = cv2.bitwise_and(img, img, mask=mask)\n",
    "        \n",
    "        # cv2.imshow('image', imgHSV)\n",
    "        # cv2.imshow('mask', mask)\n",
    "        # cv2.imshow('result', imgResult)\n",
    "    imgstack = stackImages(0.5,([img, imgHSV], [mask, imgResult]))\n",
    "    cv2.imshow('image', imgstack)\n",
    "    cv2.waitKey(1)\n"
   ]
  },
  {
   "cell_type": "code",
   "execution_count": 9,
   "metadata": {},
   "outputs": [],
   "source": [
    "def stackImages(scale,imgArray):\n",
    "    rows = len(imgArray)\n",
    "    cols = len(imgArray[0])\n",
    "    rowsAvailable = isinstance(imgArray[0], list)\n",
    "    width = imgArray[0][0].shape[1]\n",
    "    height = imgArray[0][0].shape[0]\n",
    "    if rowsAvailable:\n",
    "        for x in range ( 0, rows):\n",
    "            for y in range(0, cols):\n",
    "                if imgArray[x][y].shape[:2] == imgArray[0][0].shape [:2]:\n",
    "                    imgArray[x][y] = cv2.resize(imgArray[x][y], (0, 0), None, scale, scale)\n",
    "                else:\n",
    "                    imgArray[x][y] = cv2.resize(imgArray[x][y], (imgArray[0][0].shape[1], imgArray[0][0].shape[0]), None, scale, scale)\n",
    "                if len(imgArray[x][y].shape) == 2: imgArray[x][y]= cv2.cvtColor( imgArray[x][y], cv2.COLOR_GRAY2BGR)\n",
    "        imageBlank = np.zeros((height, width, 3), np.uint8)\n",
    "        hor = [imageBlank]*rows\n",
    "        hor_con = [imageBlank]*rows\n",
    "        for x in range(0, rows):\n",
    "            hor[x] = np.hstack(imgArray[x])\n",
    "        ver = np.vstack(hor)\n",
    "    else:\n",
    "        for x in range(0, rows):\n",
    "            if imgArray[x].shape[:2] == imgArray[0].shape[:2]:\n",
    "                imgArray[x] = cv2.resize(imgArray[x], (0, 0), None, scale, scale)\n",
    "            else:\n",
    "                imgArray[x] = cv2.resize(imgArray[x], (imgArray[0].shape[1], imgArray[0].shape[0]), None,scale, scale)\n",
    "            if len(imgArray[x].shape) == 2: imgArray[x] = cv2.cvtColor(imgArray[x], cv2.COLOR_GRAY2BGR)\n",
    "        hor= np.hstack(imgArray)\n",
    "        ver = hor\n",
    "    return ver"
   ]
  },
  {
   "cell_type": "code",
   "execution_count": 8,
   "metadata": {},
   "outputs": [],
   "source": [
    "framwidth = 640\n",
    "framheight = 480\n",
    "\n",
    "cap = cv2.VideoCapture(0)\n",
    "cap.set(3, framwidth)\n",
    "cap.set(4, framheight)\n",
    "cap.set(10, 100)\n",
    "while True:\n",
    "    SUCCESS, img = cap.read()\n",
    "    img_copy = img.copy()\n",
    "    findcolor(img_copy)\n",
    "    cv2.imshow('img', img)\n",
    "    if cv2.waitKey(1) & 0xFF == ord('q'):\n",
    "        break\n",
    "    "
   ]
  },
  {
   "cell_type": "code",
   "execution_count": null,
   "metadata": {},
   "outputs": [],
   "source": []
  }
 ],
 "metadata": {
  "interpreter": {
   "hash": "999a47f3f740529c32b38bb2ebebf98f131bd6a8ea3815996aa6c35373f1dc20"
  },
  "kernelspec": {
   "display_name": "Python 3.9.7 64-bit ('base': conda)",
   "language": "python",
   "name": "python3"
  },
  "language_info": {
   "codemirror_mode": {
    "name": "ipython",
    "version": 3
   },
   "file_extension": ".py",
   "mimetype": "text/x-python",
   "name": "python",
   "nbconvert_exporter": "python",
   "pygments_lexer": "ipython3",
   "version": "3.9.7"
  },
  "orig_nbformat": 4
 },
 "nbformat": 4,
 "nbformat_minor": 2
}
